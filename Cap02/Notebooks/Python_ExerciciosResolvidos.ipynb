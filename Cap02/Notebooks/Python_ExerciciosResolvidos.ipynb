{
 "cells": [
  {
   "cell_type": "markdown",
   "id": "6bb54267",
   "metadata": {},
   "source": [
    "# <font color='#14213d'> Resolução dos Exercícios - Capítulo 2</font>"
   ]
  },
  {
   "cell_type": "code",
   "execution_count": 1,
   "id": "fa5cf4e2",
   "metadata": {},
   "outputs": [
    {
     "name": "stdout",
     "output_type": "stream",
     "text": [
      "[1, 2, 3, 4, 5, 6, 7, 8, 9, 10]\n"
     ]
    }
   ],
   "source": [
    "# Exercício 1 - Imprima na tela os números de 1 a 10. Use uma lista para armazenar os números.\n",
    "numeros = [1, 2, 3, 4, 5, 6, 7, 8, 9, 10]\n",
    "print(numeros)"
   ]
  },
  {
   "cell_type": "code",
   "execution_count": 2,
   "id": "abac97db",
   "metadata": {},
   "outputs": [
    {
     "name": "stdout",
     "output_type": "stream",
     "text": [
      "['caneta', 'lápis', 'caderno', 'tesoura', 'cola']\n"
     ]
    }
   ],
   "source": [
    "# Exercício 2 - Crie uma lista de 5 objetos e imprima na tela\n",
    "objetos = ['caneta', 'lápis', 'caderno', 'tesoura', 'cola']\n",
    "print(objetos)"
   ]
  },
  {
   "cell_type": "code",
   "execution_count": 3,
   "id": "f7ec0ac7",
   "metadata": {},
   "outputs": [
    {
     "name": "stdout",
     "output_type": "stream",
     "text": [
      "Hoje comprei roupas e sapatos. Também fui ao cinema.\n",
      "Li um livro muito bom durante a viagem.\n"
     ]
    }
   ],
   "source": [
    "# Exercício 3 - Crie duas strings e concatene as duas em uma terceira string\n",
    "string1 = 'Hoje comprei roupas e sapatos. '\n",
    "string2 = 'Também fui ao cinema.'\n",
    "print(string1 + string2)\n",
    "\n",
    "# outra forma de fazer: \n",
    "frase1 = 'Li um livro muito bom '\n",
    "frase2 = 'durante a viagem.'\n",
    "fraseFinal = frase1 + frase2\n",
    "print(fraseFinal)"
   ]
  },
  {
   "cell_type": "code",
   "execution_count": 4,
   "id": "95ad2cb7",
   "metadata": {},
   "outputs": [
    {
     "data": {
      "text/plain": [
       "3"
      ]
     },
     "execution_count": 4,
     "metadata": {},
     "output_type": "execute_result"
    }
   ],
   "source": [
    "# Exercício 4 - Crie uma tupla com os seguintes elementos: 1, 2, 2, 3, 4, 4, 4, 5 e depois utilize a \n",
    "# função count do objeto tupla para verificar quantas vezes o número 4 aparece na tupla\n",
    "tupla1 = (1, 2, 2, 3, 4, 4, 4, 5)\n",
    "tupla1.count(4)"
   ]
  },
  {
   "cell_type": "code",
   "execution_count": 5,
   "id": "1e67693b",
   "metadata": {},
   "outputs": [
    {
     "data": {
      "text/plain": [
       "{}"
      ]
     },
     "execution_count": 5,
     "metadata": {},
     "output_type": "execute_result"
    }
   ],
   "source": [
    "# Exercício 5 - Crie um dicionário vazio e imprima na tela\n",
    "dic = {}\n",
    "dic"
   ]
  },
  {
   "cell_type": "code",
   "execution_count": 6,
   "id": "0a27291e",
   "metadata": {},
   "outputs": [
    {
     "data": {
      "text/plain": [
       "{'laranjas': 7, 'abacaxi': 2, 'morangos': 5}"
      ]
     },
     "execution_count": 6,
     "metadata": {},
     "output_type": "execute_result"
    }
   ],
   "source": [
    "# Exercício 6 - Crie um dicionário com 3 chaves e 3 valores e imprima na tela\n",
    "compras = {'laranjas': 7, 'abacaxi': 2, 'morangos': 5}\n",
    "compras"
   ]
  },
  {
   "cell_type": "code",
   "execution_count": 7,
   "id": "e81dde93",
   "metadata": {},
   "outputs": [
    {
     "data": {
      "text/plain": [
       "{'laranjas': 7, 'abacaxi': 2, 'morangos': 5, 'kiwi': 4}"
      ]
     },
     "execution_count": 7,
     "metadata": {},
     "output_type": "execute_result"
    }
   ],
   "source": [
    "# Exercício 7 - Adicione mais um elemento ao dicionário criado no exercício anterior e imprima na tela\n",
    "compras['kiwi'] = 4\n",
    "compras"
   ]
  },
  {
   "cell_type": "code",
   "execution_count": 8,
   "id": "57593ff3",
   "metadata": {},
   "outputs": [
    {
     "data": {
      "text/plain": [
       "{'Maria': [5, 7], 'Joaquina': [8.5], 'Julinho': [10]}"
      ]
     },
     "execution_count": 8,
     "metadata": {},
     "output_type": "execute_result"
    }
   ],
   "source": [
    "# Exercício 8 - Crie um dicionário com 3 chaves e 3 valores. Um dos valores deve ser uma lista de 2 elementos numéricos. \n",
    "# Imprima o dicionário na tela.\n",
    "notasProvas = {'Maria': [5, 7], 'Joaquina': [8.5], 'Julinho': [10]}\n",
    "notasProvas"
   ]
  },
  {
   "cell_type": "code",
   "execution_count": 9,
   "id": "55aaca58",
   "metadata": {},
   "outputs": [
    {
     "data": {
      "text/plain": [
       "['laranja', ('pão', 'biscoito'), {'hidratante': 2, 'shampoo': 3}, 8.7]"
      ]
     },
     "execution_count": 9,
     "metadata": {},
     "output_type": "execute_result"
    }
   ],
   "source": [
    "# Exercício 9 - Crie uma lista de 4 elementos. O primeiro elemento deve ser uma string, \n",
    "# o segundo uma tupla de 2 elementos, o terceiro um dcionário com 2 chaves e 2 valores e \n",
    "# o quarto elemento um valor do tipo float.\n",
    "# Imprima a lista na tela.\n",
    "compras = ['laranja', ('pão', 'biscoito'), {'hidratante': 2, 'shampoo': 3}, 8.7]\n",
    "compras"
   ]
  },
  {
   "cell_type": "code",
   "execution_count": 10,
   "id": "90df521b",
   "metadata": {},
   "outputs": [
    {
     "data": {
      "text/plain": [
       "'Cientista de Dados'"
      ]
     },
     "execution_count": 10,
     "metadata": {},
     "output_type": "execute_result"
    }
   ],
   "source": [
    "# Exercício 10 - Considere a string abaixo. Imprima na tela apenas os caracteres da posição 1 a 18.\n",
    "frase = 'Cientista de Dados é o profissional mais sexy do século XXI'\n",
    "frase[0:18]"
   ]
  },
  {
   "cell_type": "markdown",
   "id": "6ee48957",
   "metadata": {},
   "source": [
    "## <font color='#14213d'> Missão cumprida! =D </font>"
   ]
  }
 ],
 "metadata": {
  "kernelspec": {
   "display_name": "Python 3 (ipykernel)",
   "language": "python",
   "name": "python3"
  },
  "language_info": {
   "codemirror_mode": {
    "name": "ipython",
    "version": 3
   },
   "file_extension": ".py",
   "mimetype": "text/x-python",
   "name": "python",
   "nbconvert_exporter": "python",
   "pygments_lexer": "ipython3",
   "version": "3.9.7"
  }
 },
 "nbformat": 4,
 "nbformat_minor": 5
}
