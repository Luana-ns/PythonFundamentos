{
 "cells": [
  {
   "cell_type": "markdown",
   "metadata": {},
   "source": [
    "# <span style=\"color:#0b3954\"> Exercícios extras </span>"
   ]
  },
  {
   "cell_type": "markdown",
   "metadata": {},
   "source": [
    "## <span style=\"color:#ff5a5f\">Tuplas</span> \n"
   ]
  },
  {
   "cell_type": "code",
   "execution_count": null,
   "metadata": {},
   "outputs": [],
   "source": [
    "## Desenvolva um programa que leia quatro valores pelo teclado e guarde-os em uma tupla. No final, mostre:\n",
    "\n",
    "## A) Quantas vezes apareceu o valor 9.\n",
    "## B) Em que posição foi digitado o primeiro valor 3.\n",
    "## C) Quais foram os números pares.\n",
    "\n",
    "numeros = (int(input('Digite um número: ')),\n",
    "          int(input('Digite outro número: ')),\n",
    "          int(input('Digite mais um número: ')),\n",
    "          int(input('Digite o último número: ')))\n",
    "print(f'Você digitou os valores {numeros}.')\n",
    "\n",
    "print(f'O valor 9 apareceu {numeros.count(9)} vezes.')\n",
    "if 3 in numeros:\n",
    "    print(f'O valor 3 apareceu na {numeros.index(3)+1}ª posição.')\n",
    "else: \n",
    "    print('O valor 3 não foi digitado em nenhuma posição.')\n",
    "print(f'Os valores pares digitados foram: ', end='')\n",
    "for n in numeros: \n",
    "    if n % 2 == 0:\n",
    "        print(n, end=' ')"
   ]
  },
  {
   "cell_type": "code",
   "execution_count": null,
   "metadata": {},
   "outputs": [],
   "source": [
    "## Crie um programa que tenha uma tupla única com nomes de produtos e seus respectivos preços, na sequência. \n",
    "## No final, mostre uma listagem de preços, organizando os dados em forma tabular.\n",
    "\n",
    "listagem = ('Caderno', 8, \n",
    "            'Caneta', 2, \n",
    "            'Lápis', 1, \n",
    "            'Borracha', 1.50, \n",
    "            'Régua', 5.45, \n",
    "            'Estojo', 15.90,\n",
    "            'Compasso', 7.85,\n",
    "            'Mochila', 69.90, \n",
    "            'Livro', 45.50)\n",
    "print('-' * 38)\n",
    "print(f'{\"LISTAGEM DE PREÇOS\":^40}')\n",
    "print('-' * 38)\n",
    "for pos in range(0, len(listagem)):\n",
    "    if pos % 2 == 0:\n",
    "        print(f'{listagem[pos]:.<30}', end = '')\n",
    "    else:\n",
    "        print(f'R${listagem[pos]:>6.2f}')\n",
    "print('-' * 38)"
   ]
  },
  {
   "cell_type": "markdown",
   "metadata": {},
   "source": [
    "## <span style=\"color:#ff5a5f\">Listas</span>"
   ]
  },
  {
   "cell_type": "code",
   "execution_count": null,
   "metadata": {},
   "outputs": [],
   "source": [
    "## Crie um programa que vai ler vários números e colocar em uma lista. Depois disso, mostre:\n",
    "## A) Quantos números foram digitados.\n",
    "## B) A lista de valores, ordenada de forma decrescente.\n",
    "## C) Se o valor 5 foi digitado e está ou não na lista.\n",
    "\n",
    "valoresLista = []\n",
    "while True: \n",
    "    valoresLista.append(int(input('Digite um valor: ')))\n",
    "    resposta = str(input('Quer continuar? [S/N] '))\n",
    "    if resposta in 'Nn': \n",
    "        break\n",
    "print('-=' * 30)\n",
    "\n",
    "print(f'Você digitou {len(valoresLista)} elementos.')\n",
    "valoresLista.sort(reverse = True)\n",
    "print(f'A lista em ordem decrescente é: {valoresLista}')\n",
    "if 5 in valoresLista:\n",
    "    print(f'O número 5 está na lista!')\n",
    "else:\n",
    "    print(f'O número 5 não foi encontrado na lista.')"
   ]
  },
  {
   "cell_type": "code",
   "execution_count": null,
   "metadata": {
    "scrolled": false
   },
   "outputs": [],
   "source": [
    "## Faça um programa que leiaa nome e peso de várias pessoas, guardando tudo em uma lista. No final, mostre:\n",
    "## A) Quantas pessoas foram cadastradas.\n",
    "## B) Uma listagem com as pessoas mais pesadas.\n",
    "## C) Uma listagem com as pessoas mais leves.\n",
    "\n",
    "listaTemporaria = []\n",
    "listaPrincipal = []\n",
    "maior = menor = 0\n",
    "\n",
    "while True: \n",
    "    listaTemporaria.append(str(input(f'Digite o nome: ')))\n",
    "    listaTemporaria.append(float(input(f'Digite o peso: ')))\n",
    "    if len(listaPrincipal) == 0: \n",
    "        maior = menor = listaTemporaria[1]\n",
    "    else:\n",
    "        if listaTemporaria[1] > maior:\n",
    "            maior = listaTemporaria[1]\n",
    "        if listaTemporaria[1] < menor:\n",
    "            menor = listaTemporaria[1]\n",
    "    \n",
    "    listaPrincipal.append(listaTemporaria[:])\n",
    "    listaTemporaria.clear()\n",
    "    resposta = str(input('Quer continuar? [S/N] '))\n",
    "    if resposta in 'Nn': \n",
    "        break\n",
    "print('--' * 30)\n",
    "\n",
    "print(f'Você cadastrou {len(listaPrincipal)} pessoas.')\n",
    "print(f'O maior peso foi de {maior}Kg. Peso de ', end = '')\n",
    "for pessoa in listaPrincipal:\n",
    "    if pessoa[1] == maior:\n",
    "        print(f'{[pessoa[0]]}', end = '')\n",
    "print()\n",
    "print(f'O menor peso foi de {menor}Kg. Peso de ', end = '')\n",
    "for pessoa in listaPrincipal:\n",
    "    if pessoa[1] == menor:\n",
    "        print(f'{[pessoa[0]]}', end = '')\n",
    "print()"
   ]
  },
  {
   "cell_type": "code",
   "execution_count": 12,
   "metadata": {},
   "outputs": [
    {
     "name": "stdout",
     "output_type": "stream",
     "text": [
      "Digite o 1º valor: 12\n",
      "Digite o 2º valor: 3\n",
      "Digite o 3º valor: 56\n",
      "Digite o 4º valor: 1\n",
      "Digite o 5º valor: 45\n",
      "Digite o 6º valor: 2\n",
      "Digite o 7º valor: 35\n",
      "******************************\n",
      "Os valores pares digitados foram: [2, 12, 56]\n",
      "Os valores ímpares digitados foram: [1, 3, 35, 45]\n"
     ]
    }
   ],
   "source": [
    "## Crie um programa onde o usuário possa digitar sete valores numéricos e cadastre-os em uma lista única que \n",
    "## mantenha separados os valores pares e ímpares. No final, mostre os valores pares e ímpares em ordem crescente.\n",
    "\n",
    "numeros = [[],[]]\n",
    "valores = 0\n",
    "\n",
    "for contador in range(1,8):\n",
    "    valor = int(input(f'Digite o {contador}º valor: '))\n",
    "    if valor % 2 == 0:\n",
    "        numeros[0].append(valor)\n",
    "    else: \n",
    "        numeros[1].append(valor)\n",
    "        \n",
    "print('*' * 30)\n",
    "numeros[0].sort()\n",
    "numeros[1].sort()\n",
    "print(f'Os valores pares digitados foram: {numeros[0]}')\n",
    "print(f'Os valores ímpares digitados foram: {numeros[1]}')\n"
   ]
  },
  {
   "cell_type": "code",
   "execution_count": null,
   "metadata": {},
   "outputs": [],
   "source": [
    "## Crie um programa que leia nome e duas notas de vários alunos e guarde tudo em uma lista composta. \n",
    "## No final, mostre um boletim contendo a média de cada um e permita que o usuário possa mostrar as notas de \n",
    "## cada aluno individualmente."
   ]
  },
  {
   "cell_type": "markdown",
   "metadata": {},
   "source": [
    "## <span style=\"color:#ff5a5f\">Dicionários</span>"
   ]
  },
  {
   "cell_type": "code",
   "execution_count": null,
   "metadata": {},
   "outputs": [],
   "source": []
  }
 ],
 "metadata": {
  "kernelspec": {
   "display_name": "Python 3",
   "language": "python",
   "name": "python3"
  },
  "language_info": {
   "codemirror_mode": {
    "name": "ipython",
    "version": 3
   },
   "file_extension": ".py",
   "mimetype": "text/x-python",
   "name": "python",
   "nbconvert_exporter": "python",
   "pygments_lexer": "ipython3",
   "version": "3.7.6"
  }
 },
 "nbformat": 4,
 "nbformat_minor": 4
}
